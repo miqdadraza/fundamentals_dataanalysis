{
 "cells": [
  {
   "cell_type": "code",
   "execution_count": 1,
   "metadata": {
    "scrolled": true
   },
   "outputs": [
    {
     "name": "stdout",
     "output_type": "stream",
     "text": [
      "Hello world\n"
     ]
    }
   ],
   "source": [
    "print(\"Hello world\")"
   ]
  },
  {
   "cell_type": "code",
   "execution_count": 2,
   "metadata": {
    "scrolled": true
   },
   "outputs": [],
   "source": [
    "import numpy as np"
   ]
  },
  {
   "cell_type": "code",
   "execution_count": 12,
   "metadata": {
    "scrolled": true
   },
   "outputs": [
    {
     "name": "stdout",
     "output_type": "stream",
     "text": [
      "[1 2 3]\n",
      "(3,)\n",
      "1 2 3\n",
      "[5 2 3]\n",
      "[[1 2 3]\n",
      " [4 5 6]]\n",
      "(2, 3)\n",
      "1\n",
      "[1.  2.1 3.4]\n"
     ]
    }
   ],
   "source": [
    "a = np.array([1,2,3]) #1d array\n",
    "print(a)\n",
    "print(a.shape)\n",
    "print(a[0], a[1], a[2])\n",
    "a[0] = 5\n",
    "print(a)\n",
    "\n",
    "b = np.array([[1,2,3],\n",
    "             [4,5,6]]) #2d array, note the double square brackets\n",
    "print(b)\n",
    "print(b.shape) #shape is a 2 rows, 3 colums array\n",
    "print(b[0,0])\n",
    "\n",
    "c = np.array([1.0, 2.1, 3.4]) #can be floats\n",
    "print(c)"
   ]
  },
  {
   "cell_type": "code",
   "execution_count": 19,
   "metadata": {
    "scrolled": true
   },
   "outputs": [
    {
     "name": "stdout",
     "output_type": "stream",
     "text": [
      "[[0. 0. 0.]\n",
      " [0. 0. 0.]]\n",
      "[[1. 1. 1.]\n",
      " [1. 1. 1.]]\n",
      "[[7 7 7]\n",
      " [7 7 7]]\n",
      "[[0.41808782 0.9879027  0.54640769]\n",
      " [0.80535465 0.42723199 0.12211005]\n",
      " [0.12946096 0.36561133 0.73292951]]\n"
     ]
    }
   ],
   "source": [
    "a = np.zeros((2,3)) #can make an array of all 0's. This will make a 2 row, 3 column array of zeros\n",
    "print(a)\n",
    "\n",
    "b = np.ones((2,3))\n",
    "print(b)\n",
    "\n",
    "c = np.full((2,3), 7) #will give a 2x3 array filled with 7s\n",
    "print(c)\n",
    "\n",
    "e = np.random.random((3,3)) #will give a random array 3x3\n",
    "print(e)"
   ]
  },
  {
   "cell_type": "code",
   "execution_count": 27,
   "metadata": {
    "scrolled": true
   },
   "outputs": [
    {
     "name": "stdout",
     "output_type": "stream",
     "text": [
      "[[ 1  2  3  4]\n",
      " [ 5  6  7  8]\n",
      " [ 9 10 11 12]]\n",
      "[[2 3]\n",
      " [6 7]]\n",
      "2\n",
      "75\n",
      "[[ 1 75  3  4]\n",
      " [ 5  6  7  8]\n",
      " [ 9 10 11 12]]\n"
     ]
    }
   ],
   "source": [
    "a = np.array([[1, 2, 3, 4],\n",
    "             [5, 6, 7, 8],\n",
    "             [9, 10, 11, 12]])\n",
    "print(a)\n",
    "\n",
    "#slicing\n",
    "\n",
    "b = a[:2, 1:3] #first two rows (0 and 1), and columns 1 and 2. 0 is first column. 3 is not included\n",
    "print(b)\n",
    "\n",
    "print(a[0,1])\n",
    "b[0,0] = 75\n",
    "print(a[0,1])\n",
    "print(a) #basically, changing the sub array b, changes main array too"
   ]
  },
  {
   "cell_type": "code",
   "execution_count": 32,
   "metadata": {
    "scrolled": true
   },
   "outputs": [
    {
     "name": "stdout",
     "output_type": "stream",
     "text": [
      "[[1 2]\n",
      " [3 4]\n",
      " [5 6]]\n",
      "[[False False]\n",
      " [ True  True]\n",
      " [ True  True]]\n",
      "[3 4 5 6]\n"
     ]
    }
   ],
   "source": [
    "a = np.array([[1,2],\n",
    "             [3,4],\n",
    "             [5,6]])\n",
    "print(a)\n",
    "\n",
    "print(a > 2)\n",
    "\n",
    "print( a[a>2]) # boolean array"
   ]
  },
  {
   "cell_type": "code",
   "execution_count": 45,
   "metadata": {
    "scrolled": true
   },
   "outputs": [
    {
     "name": "stdout",
     "output_type": "stream",
     "text": [
      "[[ 6  8]\n",
      " [10 12]]\n",
      "[[ 6  8]\n",
      " [10 12]]\n",
      "[[-4 -4]\n",
      " [-4 -4]]\n",
      "[[-4 -4]\n",
      " [-4 -4]]\n",
      "[[ 5 12]\n",
      " [21 32]]\n",
      "[[ 5 12]\n",
      " [21 32]]\n",
      "[[0.2        0.33333333]\n",
      " [0.42857143 0.5       ]]\n",
      "[[0.2        0.33333333]\n",
      " [0.42857143 0.5       ]]\n",
      "10\n",
      "[4 6]\n",
      "[3 7]\n"
     ]
    }
   ],
   "source": [
    "#array math\n",
    "\n",
    "x = np.array([[1,2],\n",
    "             [3,4]])\n",
    "y = np.array([[5,6],\n",
    "             [7,8]])\n",
    "\n",
    "print(x+y) #add array element wise\n",
    "print(np.add(x,y)) #does same thing as above\n",
    "\n",
    "print(x-y)\n",
    "print(np.subtract(x,y))\n",
    "\n",
    "print(x*y)\n",
    "print(np.multiply(x,y))\n",
    "\n",
    "print(x/y)\n",
    "print(np.divide(x,y))\n",
    "\n",
    "\n",
    "print(np.sum(x)) #add all elements of the array\n",
    "\n",
    "print(np.sum(x, axis=0)) #sum of columns\n",
    "print(np.sum(x, axis=1)) #sum of rows"
   ]
  }
 ],
 "metadata": {
  "kernelspec": {
   "display_name": "Python 3",
   "language": "python",
   "name": "python3"
  },
  "language_info": {
   "codemirror_mode": {
    "name": "ipython",
    "version": 3
   },
   "file_extension": ".py",
   "mimetype": "text/x-python",
   "name": "python",
   "nbconvert_exporter": "python",
   "pygments_lexer": "ipython3",
   "version": "3.8.5"
  }
 },
 "nbformat": 4,
 "nbformat_minor": 4
}
