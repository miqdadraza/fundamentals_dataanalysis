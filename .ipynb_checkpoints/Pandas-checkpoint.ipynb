{
 "cells": [
  {
   "cell_type": "code",
   "execution_count": 2,
   "metadata": {},
   "outputs": [],
   "source": [
    "import pandas as pd"
   ]
  },
  {
   "cell_type": "code",
   "execution_count": 12,
   "metadata": {},
   "outputs": [
    {
     "name": "stdout",
     "output_type": "stream",
     "text": [
      "0       John\n",
      "1       Rich\n",
      "2    Michael\n",
      "3        Sue\n",
      "4       Kath\n",
      "dtype: object\n",
      "John\n",
      "1       Rich\n",
      "2    Michael\n",
      "3        Sue\n",
      "dtype: object\n",
      "0    John\n",
      "1    Rich\n",
      "3     Sue\n",
      "dtype: object\n",
      "1       Rich\n",
      "2    Michael\n",
      "3        Sue\n",
      "4       Kath\n",
      "dtype: object\n"
     ]
    }
   ],
   "source": [
    "#series is similar to list, one dim array, assign index to each item it contains\n",
    "s = pd.Series(['John', 'Rich', 'Michael', 'Sue', 'Kath'])\n",
    "print(s)\n",
    "\n",
    "print(s[0])\n",
    "\n",
    "print(s[1:4]) #slicing, does not include 4\n",
    "\n",
    "print(s[[0,1,3]]) #selecting at irregular integrals\n",
    "\n",
    "param = s != 'John' #new parameter where s does not include john\n",
    "print(s[param])"
   ]
  },
  {
   "cell_type": "code",
   "execution_count": null,
   "metadata": {},
   "outputs": [],
   "source": []
  },
  {
   "cell_type": "code",
   "execution_count": 22,
   "metadata": {},
   "outputs": [
    {
     "name": "stdout",
     "output_type": "stream",
     "text": [
      "New York         1300\n",
      "Chicago           900\n",
      "San Francisco    1100\n",
      "Austin            450\n",
      "dtype: int64\n",
      "Chicago           900\n",
      "San Francisco    1100\n",
      "dtype: int64\n",
      "Chicago    900\n",
      "Austin     450\n",
      "dtype: int64\n",
      "New York         1300\n",
      "Chicago           750\n",
      "San Francisco    1100\n",
      "Austin            750\n",
      "dtype: int64\n"
     ]
    }
   ],
   "source": [
    "d = {'New York': 1300,\n",
    "     'Chicago': 900,\n",
    "     'San Francisco': 1100,\n",
    "     'Austin': 450}\n",
    "\n",
    "cities = pd.Series(d) #converting dictionary to series\n",
    "print(cities)\n",
    "\n",
    "print(cities[['Chicago', 'San Francisco']])\n",
    "\n",
    "print(cities[cities < 1000]) #boolean operator\n",
    "\n",
    "cities[cities < 1000] = 750 #everything less than 1000 will be changed to 750\n",
    "print(cities)"
   ]
  },
  {
   "cell_type": "code",
   "execution_count": 30,
   "metadata": {},
   "outputs": [
    {
     "name": "stdout",
     "output_type": "stream",
     "text": [
      "  pclass    age   sex survived\n",
      "0    1st  adult  male      yes\n",
      "1    1st  adult  male      yes\n",
      "2    1st  adult  male      yes\n",
      "3    1st  adult  male      yes\n",
      "4    1st  adult  male      yes\n",
      "0       adult\n",
      "1       adult\n",
      "2       adult\n",
      "3       adult\n",
      "4       adult\n",
      "        ...  \n",
      "2196    adult\n",
      "2197    adult\n",
      "2198    adult\n",
      "2199    adult\n",
      "2200    adult\n",
      "Name: age, Length: 2201, dtype: object\n",
      "        age pclass\n",
      "0     adult    1st\n",
      "1     adult    1st\n",
      "2     adult    1st\n",
      "3     adult    1st\n",
      "4     adult    1st\n",
      "...     ...    ...\n",
      "2196  adult   crew\n",
      "2197  adult   crew\n",
      "2198  adult   crew\n",
      "2199  adult   crew\n",
      "2200  adult   crew\n",
      "\n",
      "[2201 rows x 2 columns]\n",
      "    pclass    age     sex survived\n",
      "586    2nd  child    male      yes\n",
      "587    2nd  child    male      yes\n",
      "588    2nd  child    male      yes\n",
      "589    2nd  child    male      yes\n",
      "590    2nd  child    male      yes\n",
      "591    2nd  child    male      yes\n",
      "592    2nd  child    male      yes\n",
      "593    2nd  child    male      yes\n",
      "594    2nd  child    male      yes\n",
      "595    2nd  child    male      yes\n",
      "596    2nd  child    male      yes\n",
      "597    2nd  child  female      yes\n",
      "598    2nd  child  female      yes\n",
      "599    2nd  child  female      yes\n",
      "600    2nd  child  female      yes\n",
      "601    2nd  child  female      yes\n",
      "602    2nd  child  female      yes\n",
      "603    2nd  child  female      yes\n",
      "604    2nd  child  female      yes\n",
      "605    2nd  child  female      yes\n",
      "606    2nd  child  female      yes\n",
      "607    2nd  child  female      yes\n",
      "608    2nd  child  female      yes\n",
      "609    2nd  child  female      yes\n",
      "    pclass    age     sex survived\n",
      "320    1st  child    male      yes\n",
      "321    1st  child    male      yes\n",
      "322    1st  child    male      yes\n",
      "323    1st  child    male      yes\n",
      "324    1st  child  female      yes\n",
      "325    2nd  adult    male      yes\n",
      "326    2nd  adult    male      yes\n",
      "327    2nd  adult    male      yes\n",
      "328    2nd  adult    male      yes\n",
      "329    2nd  adult    male      yes\n"
     ]
    }
   ],
   "source": [
    "#data frame is collection of series\n",
    "\n",
    "titanic = pd.read_csv('titanic.txt', sep='\\t')\n",
    "\n",
    "print(titanic.head()) #print first 5 rows\n",
    "\n",
    "#selecting a single column will give out a series\n",
    "print(titanic['age']) #gives a series\n",
    "\n",
    "#selecting multiple columns:\n",
    "print(titanic[['age','pclass']])\n",
    "\n",
    "#boolean indexing\n",
    "\n",
    "print(titanic[(titanic.age=='child') & (titanic.pclass=='2nd')]) #gives all the data where age is child and pclass is 2nd\n",
    "\n",
    "print(titanic[320:330]) #will give all the rows with index data from 320 to 339"
   ]
  },
  {
   "cell_type": "code",
   "execution_count": 33,
   "metadata": {},
   "outputs": [
    {
     "data": {
      "text/plain": [
       "age\n",
       "adult    2092\n",
       "child     109\n",
       "dtype: int64"
      ]
     },
     "execution_count": 33,
     "metadata": {},
     "output_type": "execute_result"
    }
   ],
   "source": [
    "by_age = titanic.groupby('age')\n",
    "\n",
    "by_age.size() #can aggregate and find how many of each age group (attribute)\n"
   ]
  },
  {
   "cell_type": "code",
   "execution_count": 36,
   "metadata": {},
   "outputs": [
    {
     "name": "stdout",
     "output_type": "stream",
     "text": [
      "sex\n",
      "female     470\n",
      "male      1731\n",
      "dtype: int64\n",
      "survived  sex   \n",
      "no        female     126\n",
      "          male      1364\n",
      "yes       female     344\n",
      "          male       367\n",
      "dtype: int64\n"
     ]
    }
   ],
   "source": [
    "print(titanic.groupby('sex').size()) #or print(titanic.groupby(['sex']).size())\n",
    "\n",
    "print(titanic.groupby(['survived','sex']).size()) #you can group"
   ]
  }
 ],
 "metadata": {
  "kernelspec": {
   "display_name": "Python 3",
   "language": "python",
   "name": "python3"
  },
  "language_info": {
   "codemirror_mode": {
    "name": "ipython",
    "version": 3
   },
   "file_extension": ".py",
   "mimetype": "text/x-python",
   "name": "python",
   "nbconvert_exporter": "python",
   "pygments_lexer": "ipython3",
   "version": "3.8.5"
  }
 },
 "nbformat": 4,
 "nbformat_minor": 4
}
